{
 "cells": [
  {
   "cell_type": "code",
   "execution_count": null,
   "id": "4a65260a-14d0-4126-b1d3-7c03cabf9480",
   "metadata": {
    "tags": []
   },
   "outputs": [],
   "source": [
    "using UMAPCT\n",
    "using MLDatasets\n",
    "using Plots\n",
    "using Random\n",
    "\n",
    "indices = shuffle(1:1000)\n",
    "data = MNIST(:train)\n",
    "X = convert(Matrix{Float64}, reshape(data.features, 784, 60000))[:, indices]\n",
    "y = data.targets[indices];"
   ]
  },
  {
   "cell_type": "code",
   "execution_count": 2,
   "id": "9b2e2c3c-9d91-4857-87ef-491f26efe04b",
   "metadata": {
    "tags": []
   },
   "outputs": [],
   "source": [
    "theme(:ggplot2)\n",
    "embeddings = Array{Float64, 3}(undef, 4, 2, size(X, 2));"
   ]
  },
  {
   "cell_type": "code",
   "execution_count": 3,
   "id": "589a3a02-9339-4e88-93a7-e2db21008ef3",
   "metadata": {
    "tags": []
   },
   "outputs": [
    {
     "data": {
      "text/plain": [
       "\"/Users/richardsamuelson/Source/git/UMAPCT.jl/umap.svg\""
      ]
     },
     "execution_count": 3,
     "metadata": {},
     "output_type": "execute_result"
    }
   ],
   "source": [
    "embeddings[1, :, :] = umap(X, 8) do x, y\n",
    "    x + y - x * y\n",
    "end\n",
    "\n",
    "embeddings[2, :, :] = umap(X, 8) do x, y\n",
    "    max(x, y)\n",
    "end\n",
    "\n",
    "embeddings[3, :, :] = umap(X, 8) do x, y\n",
    "    min(x + y, 1.)\n",
    "end\n",
    "\n",
    "embeddings[4, :, :] = umap(X, 8) do x, y\n",
    "    (x + y) / (1 + x * y)\n",
    "end\n",
    "\n",
    "plot(\n",
    "    scatter(embeddings[1, 1, :], embeddings[1, 2, :], group=y, title=\"probabilistic sum\"),\n",
    "    scatter(embeddings[2, 1, :], embeddings[2, 2, :], group=y, title=\"maximum\"),\n",
    "    scatter(embeddings[3, 1, :], embeddings[3, 2, :], group=y, title=\"bounded sum\"),\n",
    "    scatter(embeddings[4, 1, :], embeddings[4, 2, :], group=y, title=\"Einstein sum\");\n",
    "    layout=4,\n",
    "    size=(1000, 1000))\n",
    "\n",
    "savefig(\"./umap.svg\")"
   ]
  },
  {
   "cell_type": "code",
   "execution_count": null,
   "id": "501e17dc-2b80-416c-a59f-6139ad60ed7e",
   "metadata": {
    "tags": []
   },
   "outputs": [],
   "source": [
    "embeddings[1, :, :] = isoumap(X, 8) do x, y\n",
    "    x + y - x * y\n",
    "end\n",
    "\n",
    "embeddings[2, :, :] = isoumap(X, 8) do x, y\n",
    "    max(x, y)\n",
    "end\n",
    "\n",
    "embeddings[3, :, :] = isoumap(X, 8) do x, y\n",
    "    min(x + y, 1.)\n",
    "end\n",
    "\n",
    "embeddings[4, :, :] = isoumap(X, 8) do x, y\n",
    "    (x + y) / (1 + x * y)\n",
    "end\n",
    "\n",
    "plot(\n",
    "    scatter(embeddings[1, 1, :], embeddings[1, 2, :], group=y, title=\"probabilistic sum\"),\n",
    "    scatter(embeddings[2, 1, :], embeddings[2, 2, :], group=y, title=\"maximum\"),\n",
    "    scatter(embeddings[3, 1, :], embeddings[3, 2, :], group=y, title=\"bounded sum\"),\n",
    "    scatter(embeddings[4, 1, :], embeddings[4, 2, :], group=y, title=\"Einstein sum\");\n",
    "    layout=4,\n",
    "    size=(1000, 1000))\n",
    "\n",
    "savefig(\"./isoumap.svg\")"
   ]
  }
 ],
 "metadata": {
  "kernelspec": {
   "display_name": "Julia 1.10.0",
   "language": "julia",
   "name": "julia-1.10"
  },
  "language_info": {
   "file_extension": ".jl",
   "mimetype": "application/julia",
   "name": "julia",
   "version": "1.10.0"
  }
 },
 "nbformat": 4,
 "nbformat_minor": 5
}
