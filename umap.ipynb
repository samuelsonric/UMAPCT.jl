{
 "cells": [
  {
   "cell_type": "code",
   "execution_count": 2,
   "id": "4a65260a-14d0-4126-b1d3-7c03cabf9480",
   "metadata": {
    "tags": []
   },
   "outputs": [
    {
     "name": "stderr",
     "output_type": "stream",
     "text": [
      "\u001b[36m\u001b[1m[ \u001b[22m\u001b[39m\u001b[36m\u001b[1mInfo: \u001b[22m\u001b[39mVisualize Output\n"
     ]
    },
    {
     "name": "stdout",
     "output_type": "stream",
     "text": [
      "      \u001b[38;5;8m┌────────────────────────────────────────┐\u001b[0m \n",
      "    \u001b[38;5;8m2\u001b[0m \u001b[38;5;8m│\u001b[0m⠀⠀⠀⠀⠀⠀⠀⠀⠀⠀⠀⠀⠀⠀⠀⠀⠀⠀⠀⠀⡇⠀⠀⠀⠀⠀⠀⠀⠀⠀⠀⠀⠀⠀⠀⠀⠀⠀⠀⠀\u001b[38;5;8m│\u001b[0m \u001b[38;5;8m\u001b[0m\n",
      "     \u001b[38;5;8m\u001b[0m \u001b[38;5;8m│\u001b[0m⠀⠀⠀⠀⠀⠀⠀⠀⠀⠀⠀⠀⠀⠀⠀⠀⠀⠀⠀⠀⡇⠀⠀⠀⠀⠀⠀⠀⠀⠀⠀⠀⠀⠀⠀⠀⠀⠀⠀⠀\u001b[38;5;8m│\u001b[0m \u001b[38;5;8m\u001b[0m\n",
      "     \u001b[38;5;8m\u001b[0m \u001b[38;5;8m│\u001b[0m⠀⠀⠀⠀⠀⠀⠀⠀⠀⠀⠀⠀⠀⠀⠀⠀⠀⠀⠀⠀⡇⠀⠀⠀⠀⠀⠀⠀⠀⠀⠀⠀⠀⠀⠀⠀⠀⠀⠀⠀\u001b[38;5;8m│\u001b[0m \u001b[38;5;8m\u001b[0m\n",
      "     \u001b[38;5;8m\u001b[0m \u001b[38;5;8m│\u001b[0m⠀⠀⠀⠀⠀⠀⠀⠀⠀⠀⠀⠀⠀⠀⠀⠀⠀⠀⠀\u001b[38;5;2m⡀\u001b[0m⡇⠀⠀⠀⠀⠀⠀⠀⠀\u001b[38;5;2m⠄\u001b[0m⠀⠀⠀⠀⠀⠀⠀⠀⠀⠀\u001b[38;5;8m│\u001b[0m \u001b[38;5;8m\u001b[0m\n",
      "     \u001b[38;5;8m\u001b[0m \u001b[38;5;8m│\u001b[0m⠀⠀⠀⠀⠀⠀⠀⠀⠀⠀⠀⠀⠀⠀⠀\u001b[38;5;2m⠂\u001b[0m\u001b[38;5;2m⡀\u001b[0m⠀⠀\u001b[38;5;2m⢂\u001b[0m\u001b[38;5;2m⡗\u001b[0m\u001b[38;5;2m⣐\u001b[0m⠀\u001b[38;5;2m⢀\u001b[0m⠀⠀⠀⠀⠀⠀⠀⠀⠀⠀⠀⠀⠀⠀⠀⠀\u001b[38;5;8m│\u001b[0m \u001b[38;5;8m\u001b[0m\n",
      "     \u001b[38;5;8m\u001b[0m \u001b[38;5;8m│\u001b[0m⠀⠀⠀⠀⠀⠀⠀⠀⠀⠀⠀⠀⠀\u001b[38;5;2m⢐\u001b[0m\u001b[38;5;2m⢆\u001b[0m\u001b[38;5;2m⠄\u001b[0m\u001b[38;5;2m⠉\u001b[0m\u001b[38;5;2m⠈\u001b[0m⠀⠀⡇⠀⠀\u001b[38;5;2m⠐\u001b[0m⠀⠀\u001b[38;5;2m⢀\u001b[0m⠀⠀⠀⠀⠀⠀⠀⠀⠀⠀⠀⠀⠀\u001b[38;5;8m│\u001b[0m \u001b[38;5;8m\u001b[0m\n",
      "     \u001b[38;5;8m\u001b[0m \u001b[38;5;8m│\u001b[0m⠀⠀⠀⠀⠀⠀⠀⠀⠀⠀⠀\u001b[38;5;2m⢐\u001b[0m\u001b[38;5;2m⣀\u001b[0m\u001b[38;5;2m⠅\u001b[0m⠀⠀⠀⠀⠀⠀⡇⠀⠀⠀⠀\u001b[38;5;2m⠁\u001b[0m\u001b[38;5;2m⠁\u001b[0m\u001b[38;5;2m⠆\u001b[0m\u001b[38;5;2m⠉\u001b[0m\u001b[38;5;2m⠉\u001b[0m\u001b[38;5;2m⢀\u001b[0m⠀⠀⠀⠀⠀⠀⠀⠀⠀\u001b[38;5;8m│\u001b[0m \u001b[38;5;8m\u001b[0m\n",
      "     \u001b[38;5;8m\u001b[0m \u001b[38;5;8m│\u001b[0m⠤⠤⠤⠤⠤⠤⠤⠤⠤\u001b[38;5;2m⠬\u001b[0m⠤\u001b[38;5;2m⡽\u001b[0m\u001b[38;5;2m⠬\u001b[0m⠤⠤⠤⠤⠤⠤⠤⡧⠤⠤⠤⠤⠤\u001b[38;5;2m⢵\u001b[0m⠤\u001b[38;5;2m⠴\u001b[0m\u001b[38;5;2m⡤\u001b[0m⠤⠤⠤⠤⠤⠤⠤⠤⠤⠤\u001b[38;5;8m│\u001b[0m \u001b[38;5;8m\u001b[0m\n",
      "     \u001b[38;5;8m\u001b[0m \u001b[38;5;8m│\u001b[0m⠀⠀⠀⠀⠀⠀⠀⠀⠀⠀⠀\u001b[38;5;2m⠈\u001b[0m\u001b[38;5;2m⠰\u001b[0m⠀⠀⠀⠀⠀⠀⠀⡇⠀⠀⠀⠀⠀\u001b[38;5;2m⣀\u001b[0m⠀⠀⠀\u001b[38;5;2m⠈\u001b[0m⠀⠀⠀⠀⠀⠀⠀⠀⠀\u001b[38;5;8m│\u001b[0m \u001b[38;5;8m\u001b[0m\n",
      "     \u001b[38;5;8m\u001b[0m \u001b[38;5;8m│\u001b[0m⠀⠀⠀⠀⠀⠀⠀⠀⠀⠀⠀⠀⠀\u001b[38;5;2m⠰\u001b[0m\u001b[38;5;2m⠂\u001b[0m⠀\u001b[38;5;2m⢀\u001b[0m⠀⠀⠀⡇⠀\u001b[38;5;2m⡀\u001b[0m\u001b[38;5;2m⢀\u001b[0m\u001b[38;5;2m⢄\u001b[0m\u001b[38;5;2m⠂\u001b[0m⠀\u001b[38;5;2m⠄\u001b[0m⠀\u001b[38;5;2m⠈\u001b[0m⠀⠀⠀⠀⠀⠀⠀⠀⠀⠀\u001b[38;5;8m│\u001b[0m \u001b[38;5;8m\u001b[0m\n",
      "     \u001b[38;5;8m\u001b[0m \u001b[38;5;8m│\u001b[0m⠀⠀⠀⠀⠀⠀⠀⠀⠀⠀⠀⠀⠀⠀⠀\u001b[38;5;2m⠑\u001b[0m\u001b[38;5;2m⠙\u001b[0m\u001b[38;5;2m⠃\u001b[0m⠀\u001b[38;5;2m⠘\u001b[0m\u001b[38;5;2m⡇\u001b[0m\u001b[38;5;2m⠂\u001b[0m⠀\u001b[38;5;2m⡈\u001b[0m⠀⠀⠀⠀⠀⠀⠀⠀⠀⠀⠀⠀⠀⠀⠀⠀\u001b[38;5;8m│\u001b[0m \u001b[38;5;8m\u001b[0m\n",
      "     \u001b[38;5;8m\u001b[0m \u001b[38;5;8m│\u001b[0m⠀⠀⠀⠀⠀⠀⠀⠀⠀⠀⠀⠀⠀⠀⠀⠀⠀⠀⠀⠀⡇⠀⠀⠀⠀⠀⠀⠀⠀⠀⠀⠀⠀⠀⠀⠀⠀⠀⠀⠀\u001b[38;5;8m│\u001b[0m \u001b[38;5;8m\u001b[0m\n",
      "     \u001b[38;5;8m\u001b[0m \u001b[38;5;8m│\u001b[0m⠀⠀⠀⠀⠀⠀⠀⠀⠀⠀⠀⠀⠀⠀⠀⠀⠀⠀⠀⠀⡇⠀⠀⠀⠀⠀⠀⠀⠀⠀⠀⠀⠀⠀⠀⠀⠀⠀⠀⠀\u001b[38;5;8m│\u001b[0m \u001b[38;5;8m\u001b[0m\n",
      "     \u001b[38;5;8m\u001b[0m \u001b[38;5;8m│\u001b[0m⠀⠀⠀⠀⠀⠀⠀⠀⠀⠀⠀⠀⠀\u001b[38;5;2m⠂\u001b[0m⠀⠀⠀⠀⠀⠀⡇⠀⠀⠀⠀⠀⠀⠀⠀⠀⠀⠀⠀⠀⠀⠀⠀⠀⠀⠀\u001b[38;5;8m│\u001b[0m \u001b[38;5;8m\u001b[0m\n",
      "   \u001b[38;5;8m-2\u001b[0m \u001b[38;5;8m│\u001b[0m⠀⠀⠀⠀⠀⠀⠀⠀⠀⠀⠀⠀⠀⠀⠀⠀⠀⠀⠀⠀⡇⠀⠀⠀⠀⠀⠀⠀⠀⠀⠀⠀⠀⠀⠀⠀⠀⠀⠀⠀\u001b[38;5;8m│\u001b[0m \u001b[38;5;8m\u001b[0m\n",
      "      \u001b[38;5;8m└────────────────────────────────────────┘\u001b[0m \n",
      "      ⠀\u001b[38;5;8m-2\u001b[0m⠀⠀⠀⠀⠀⠀⠀⠀⠀⠀⠀⠀⠀⠀⠀⠀⠀\u001b[38;5;8m\u001b[0m⠀⠀⠀⠀⠀⠀⠀⠀⠀⠀⠀⠀⠀⠀⠀⠀⠀⠀⠀⠀\u001b[38;5;8m2\u001b[0m⠀ \n"
     ]
    }
   ],
   "source": [
    "using UMAPCT\n",
    "using StaticArrays\n",
    "using GeometryBasics\n",
    "using FileIO\n",
    "using StatsBase\n",
    "using UnicodePlots\n",
    "\n",
    "mesh = load(\"./torus.obj\")\n",
    "input = [SVector{3, Float64}(p) for p in vertex_attributes(mesh).position]\n",
    "\n",
    "# Sample 100 points without replacement.\n",
    "embedding = isoumap(sample(input, 100; replace=false), 8)\n",
    "\n",
    "@info \"Visualize Output\"\n",
    "\n",
    "# Create an ASCII plot for REPL use and log files.\n",
    "println(scatterplot(embedding[1,:], embedding[2,:]))"
   ]
  },
  {
   "cell_type": "code",
   "execution_count": null,
   "id": "284db8bf-8d4e-4751-82fc-99ee8a7021da",
   "metadata": {},
   "outputs": [],
   "source": []
  }
 ],
 "metadata": {
  "kernelspec": {
   "display_name": "Julia 1.10.0",
   "language": "julia",
   "name": "julia-1.10"
  },
  "language_info": {
   "file_extension": ".jl",
   "mimetype": "application/julia",
   "name": "julia",
   "version": "1.10.0"
  }
 },
 "nbformat": 4,
 "nbformat_minor": 5
}
